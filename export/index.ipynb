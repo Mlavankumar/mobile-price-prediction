{
 "cells": [
  {
   "cell_type": "code",
   "execution_count": 1,
   "id": "bac37e44-6305-4617-b590-b00ff18b6f6a",
   "metadata": {},
   "outputs": [],
   "source": [
    "import warnings\n",
    "warnings.filterwarnings(\"ignore\")"
   ]
  },
  {
   "cell_type": "code",
   "execution_count": 2,
   "id": "d3139a0d-5f21-4249-beb8-da2d369b5181",
   "metadata": {},
   "outputs": [],
   "source": [
    "import numpy as np\n",
    "import pandas as pd\n",
    "from pathlib import Path\n",
    "from datetime import datetime\n",
    "import matplotlib.pyplot as plt\n",
    "\n",
    "from sklearn.model_selection import StratifiedKFold, train_test_split, RandomizedSearchCV\n",
    "from sklearn.preprocessing import StandardScaler\n",
    "from sklearn.compose import ColumnTransformer\n",
    "from sklearn.pipeline import Pipeline\n",
    "from sklearn.metrics import (accuracy_score, f1_score, classification_report,\n",
    "                             confusion_matrix, roc_auc_score)\n",
    "from sklearn.linear_model import LogisticRegression\n",
    "from sklearn.ensemble import RandomForestClassifier, GradientBoostingClassifier\n",
    "from sklearn.inspection import permutation_importance\n",
    "import joblib\n",
    "\n",
    "RANDOM_STATE = 42\n",
    "np.random.seed(RANDOM_STATE)\n"
   ]
  },
  {
   "cell_type": "code",
   "execution_count": 3,
   "id": "92177f08-8700-4b04-af95-8bb3d7ae6a0b",
   "metadata": {},
   "outputs": [],
   "source": [
    "DATA_DIR = Path(r\"C:\\Users\\mnlku\\my personal\\btech\\internships\\unified mentor\\Mobile Phone Pricing\\data\")  \n",
    "TRAIN_PATH = DATA_DIR / \"train.csv\"\n",
    "TEST_PATH  = DATA_DIR / \"test.csv\"   \n",
    "\n",
    "assert TRAIN_PATH.exists(), f\"Couldn't find {TRAIN_PATH}. Place Kaggle train.csv there.\""
   ]
  },
  {
   "cell_type": "code",
   "execution_count": 4,
   "id": "a8780380-81ca-4536-8950-5a3848cb12ae",
   "metadata": {},
   "outputs": [
    {
     "name": "stdout",
     "output_type": "stream",
     "text": [
      "Shape: (2000, 21)\n",
      "   battery_power  blue  clock_speed  dual_sim  fc  four_g  int_memory  m_dep  \\\n",
      "0            842     0          2.2         0   1       0           7    0.6   \n",
      "1           1021     1          0.5         1   0       1          53    0.7   \n",
      "2            563     1          0.5         1   2       1          41    0.9   \n",
      "\n",
      "   mobile_wt  n_cores  ...  px_height  px_width   ram  sc_h  sc_w  talk_time  \\\n",
      "0        188        2  ...         20       756  2549     9     7         19   \n",
      "1        136        3  ...        905      1988  2631    17     3          7   \n",
      "2        145        5  ...       1263      1716  2603    11     2          9   \n",
      "\n",
      "   three_g  touch_screen  wifi  price_range  \n",
      "0        0             0     1            1  \n",
      "1        1             1     0            2  \n",
      "2        1             1     0            2  \n",
      "\n",
      "[3 rows x 21 columns]\n",
      "\n",
      "Missing values per column:\n",
      "battery_power    0\n",
      "blue             0\n",
      "clock_speed      0\n",
      "dual_sim         0\n",
      "fc               0\n",
      "four_g           0\n",
      "int_memory       0\n",
      "m_dep            0\n",
      "mobile_wt        0\n",
      "n_cores          0\n",
      "dtype: int64\n"
     ]
    }
   ],
   "source": [
    "df = pd.read_csv(TRAIN_PATH)\n",
    "print(\"Shape:\", df.shape)\n",
    "print(df.head(3))\n",
    "\n",
    "target_col = \"price_range\"\n",
    "assert target_col in df.columns, f\"{target_col} not found in train.csv columns.\"\n",
    "\n",
    "print(\"\\nMissing values per column:\")\n",
    "print(df.isna().sum().sort_values(ascending=False).head(10))"
   ]
  },
  {
   "cell_type": "code",
   "execution_count": 5,
   "id": "f246b309-ebc7-4267-a7a1-eb6c14a6bec3",
   "metadata": {},
   "outputs": [],
   "source": [
    "X = df.drop(columns=[target_col])\n",
    "y = df[target_col].astype(int)\n",
    "\n",
    "num_cols = X.columns.tolist()\n",
    "\n",
    "X_train, X_valid, y_train, y_valid = train_test_split(\n",
    "    X, y, test_size=0.2, stratify=y, random_state=RANDOM_STATE\n",
    ")"
   ]
  },
  {
   "cell_type": "code",
   "execution_count": 6,
   "id": "892400a2-0137-4c78-9102-c7d7acb0cdb8",
   "metadata": {},
   "outputs": [],
   "source": [
    "preprocess = ColumnTransformer(\n",
    "    transformers=[(\"num\", StandardScaler(), num_cols)],\n",
    "    remainder=\"drop\"\n",
    ")\n"
   ]
  },
  {
   "cell_type": "code",
   "execution_count": 7,
   "id": "14265ee3-8f94-4129-9f2c-179dabd97b61",
   "metadata": {},
   "outputs": [],
   "source": [
    "models = {\n",
    "    \"logreg\": Pipeline(steps=[\n",
    "        (\"prep\", preprocess),\n",
    "        (\"clf\", LogisticRegression(max_iter=200, multi_class=\"multinomial\", random_state=RANDOM_STATE))\n",
    "    ]),\n",
    "    \"rf\": Pipeline(steps=[\n",
    "        (\"prep\", \"passthrough\"),\n",
    "        (\"clf\", RandomForestClassifier(n_estimators=300, random_state=RANDOM_STATE, n_jobs=-1))\n",
    "    ]),\n",
    "    \"gb\": Pipeline(steps=[\n",
    "        (\"prep\", \"passthrough\"),\n",
    "        (\"clf\", GradientBoostingClassifier(random_state=RANDOM_STATE))\n",
    "    ])\n",
    "}"
   ]
  },
  {
   "cell_type": "code",
   "execution_count": 8,
   "id": "5345634f-1eff-49c6-9f98-672d046090c8",
   "metadata": {},
   "outputs": [
    {
     "name": "stdout",
     "output_type": "stream",
     "text": [
      "\n",
      "=== Baseline CV (5-fold) ===\n",
      "logreg: acc 0.9481±0.010 | f1_macro 0.9480±0.010\n",
      "    rf: acc 0.8713±0.031 | f1_macro 0.8706±0.032\n",
      "    gb: acc 0.8881±0.019 | f1_macro 0.8884±0.019\n"
     ]
    }
   ],
   "source": [
    "def cv_score(model, X, y, folds=5):\n",
    "    skf = StratifiedKFold(n_splits=folds, shuffle=True, random_state=RANDOM_STATE)\n",
    "    accs, f1s = [], []\n",
    "    for tr_idx, te_idx in skf.split(X, y):\n",
    "        X_tr, X_te = X.iloc[tr_idx], X.iloc[te_idx]\n",
    "        y_tr, y_te = y.iloc[tr_idx], y.iloc[te_idx]\n",
    "        model.fit(X_tr, y_tr)\n",
    "        pred = model.predict(X_te)\n",
    "        accs.append(accuracy_score(y_te, pred))\n",
    "        f1s.append(f1_score(y_te, pred, average=\"macro\"))\n",
    "    return np.mean(accs), np.std(accs), np.mean(f1s), np.std(f1s)\n",
    "\n",
    "print(\"\\n=== Baseline CV (5-fold) ===\")\n",
    "for name, pipe in models.items():\n",
    "    acc_m, acc_s, f1_m, f1_s = cv_score(pipe, X_train, y_train, folds=5)\n",
    "    print(f\"{name:>6}: acc {acc_m:.4f}±{acc_s:.3f} | f1_macro {f1_m:.4f}±{f1_s:.3f}\")\n"
   ]
  },
  {
   "cell_type": "code",
   "execution_count": 9,
   "id": "aa4ee692-21cb-436c-ba2b-a4364e14cf9d",
   "metadata": {},
   "outputs": [
    {
     "name": "stdout",
     "output_type": "stream",
     "text": [
      "\n",
      "=== RandomizedSearchCV (stratified 5-fold) ===\n",
      "logreg: best f1_macro 0.9624\n",
      "    rf: best f1_macro 0.8862\n",
      "    gb: best f1_macro 0.8982\n"
     ]
    }
   ],
   "source": [
    "search_spaces = {\n",
    "    \"logreg\": {\n",
    "        \"clf__C\": np.logspace(-2, 2, 20),\n",
    "        \"clf__penalty\": [\"l2\"],\n",
    "        \"clf__solver\": [\"lbfgs\", \"saga\"]\n",
    "    },\n",
    "    \"rf\": {\n",
    "        \"clf__n_estimators\": [200, 300, 400, 600],\n",
    "        \"clf__max_depth\": [None, 6, 8, 10],\n",
    "        \"clf__min_samples_split\": [2, 4, 6, 10],\n",
    "        \"clf__min_samples_leaf\": [1, 2, 3],\n",
    "        \"clf__max_features\": [\"sqrt\", \"log2\", None]\n",
    "    },\n",
    "    \"gb\": {\n",
    "        \"clf__n_estimators\": [150, 250, 400],\n",
    "        \"clf__learning_rate\": [0.03, 0.05, 0.08, 0.1],\n",
    "        \"clf__max_depth\": [2, 3, 4],\n",
    "        \"clf__subsample\": [0.8, 0.9, 1.0]\n",
    "    }\n",
    "}\n",
    "\n",
    "best_models = {}\n",
    "print(\"\\n=== RandomizedSearchCV (stratified 5-fold) ===\")\n",
    "for name, pipe in models.items():\n",
    "    param_distributions = search_spaces.get(name, {})\n",
    "    search = RandomizedSearchCV(\n",
    "        estimator=pipe,\n",
    "        param_distributions=param_distributions,\n",
    "        n_iter=20,\n",
    "        scoring=\"f1_macro\",\n",
    "        cv=5,\n",
    "        n_jobs=-1,\n",
    "        random_state=RANDOM_STATE,\n",
    "        verbose=0\n",
    "    )\n",
    "    search.fit(X_train, y_train)\n",
    "    best_models[name] = search.best_estimator_\n",
    "    print(f\"{name:>6}: best f1_macro {search.best_score_:.4f}\")\n"
   ]
  },
  {
   "cell_type": "code",
   "execution_count": 10,
   "id": "01b7c0fe-5453-476a-ae6a-1106bcfd01b8",
   "metadata": {},
   "outputs": [
    {
     "name": "stdout",
     "output_type": "stream",
     "text": [
      "VALID logreg: acc=0.9800 | f1_macro=0.9800\n",
      "VALID     rf: acc=0.9000 | f1_macro=0.9002\n",
      "VALID     gb: acc=0.9375 | f1_macro=0.9374\n",
      "\n",
      ">>> Selected best model: logreg | acc=0.9800 | f1_macro=0.9800\n"
     ]
    }
   ],
   "source": [
    "val_scores = []\n",
    "for name, model in best_models.items():\n",
    "    pred = model.predict(X_valid)\n",
    "    acc = accuracy_score(y_valid, pred)\n",
    "    f1m = f1_score(y_valid, pred, average=\"macro\")\n",
    "    val_scores.append((name, acc, f1m))\n",
    "    print(f\"VALID {name:>6}: acc={acc:.4f} | f1_macro={f1m:.4f}\")\n",
    "\n",
    "val_scores.sort(key=lambda t: t[2], reverse=True)\n",
    "best_name, best_acc, best_f1 = val_scores[0]\n",
    "best_model = best_models[best_name]\n",
    "print(f\"\\n>>> Selected best model: {best_name} | acc={best_acc:.4f} | f1_macro={best_f1:.4f}\")\n"
   ]
  },
  {
   "cell_type": "code",
   "execution_count": 11,
   "id": "795dfbb1-df8a-4002-a607-5ea737aad8c1",
   "metadata": {},
   "outputs": [
    {
     "name": "stdout",
     "output_type": "stream",
     "text": [
      "\n",
      "Classification report (validation):\n",
      "              precision    recall  f1-score   support\n",
      "\n",
      "           0     0.9900    0.9900    0.9900       100\n",
      "           1     0.9897    0.9600    0.9746       100\n",
      "           2     0.9519    0.9900    0.9706       100\n",
      "           3     0.9899    0.9800    0.9849       100\n",
      "\n",
      "    accuracy                         0.9800       400\n",
      "   macro avg     0.9804    0.9800    0.9800       400\n",
      "weighted avg     0.9804    0.9800    0.9800       400\n",
      "\n"
     ]
    },
    {
     "data": {
      "image/png": "[encoded data removed]",
      "text/plain": [
       "<Figure size 640x480 with 2 Axes>"
      ]
     },
     "metadata": {},
     "output_type": "display_data"
    }
   ],
   "source": [
    "y_pred = best_model.predict(X_valid)\n",
    "print(\"\\nClassification report (validation):\")\n",
    "print(classification_report(y_valid, y_pred, digits=4))\n",
    "\n",
    "cm = confusion_matrix(y_valid, y_pred)\n",
    "plt.imshow(cm, interpolation='nearest')\n",
    "plt.title(\"Confusion Matrix (Validation)\")\n",
    "plt.xlabel(\"Predicted\")\n",
    "plt.ylabel(\"True\")\n",
    "plt.colorbar()\n",
    "for i in range(cm.shape[0]):\n",
    "    for j in range(cm.shape[1]):\n",
    "        plt.text(j, i, cm[i, j], ha='center', va='center')\n",
    "plt.tight_layout()\n",
    "plt.show()"
   ]
  },
  {
   "cell_type": "code",
   "execution_count": 12,
   "id": "a0b94ad9-593e-4dd1-b347-f54e2e3a21ed",
   "metadata": {},
   "outputs": [
    {
     "name": "stdout",
     "output_type": "stream",
     "text": [
      "\n",
      "Permutation Importances...\n",
      "          feature  importance_mean\n",
      "13            ram         0.703906\n",
      "0   battery_power         0.229199\n",
      "12       px_width         0.120940\n",
      "11      px_height         0.116067\n",
      "8       mobile_wt         0.021907\n",
      "6      int_memory         0.009982\n",
      "9         n_cores         0.009002\n",
      "7           m_dep         0.007254\n",
      "14           sc_h         0.006539\n",
      "10             pc         0.004507\n"
     ]
    },
    {
     "data": {
      "image/png": "[encoded data removed]",
      "text/plain": [
       "<Figure size 640x480 with 1 Axes>"
      ]
     },
     "metadata": {},
     "output_type": "display_data"
    }
   ],
   "source": [
    "print(\"\\nPermutation Importances...\")\n",
    "r = permutation_importance(best_model, X_valid, y_valid, scoring=\"f1_macro\",\n",
    "                           n_repeats=10, random_state=RANDOM_STATE, n_jobs=-1)\n",
    "imp_df = pd.DataFrame({\"feature\": X.columns, \"importance_mean\": r.importances_mean})\n",
    "imp_df = imp_df.sort_values(\"importance_mean\", ascending=False)\n",
    "print(imp_df.head(10))\n",
    "\n",
    "plt.barh(imp_df[\"feature\"][:15][::-1], imp_df[\"importance_mean\"][:15][::-1])\n",
    "plt.title(\"Top Feature Importances\")\n",
    "plt.tight_layout()\n",
    "plt.show()"
   ]
  },
  {
   "cell_type": "code",
   "execution_count": 13,
   "id": "9f708c6b-3923-4966-b4db-61681736ef39",
   "metadata": {},
   "outputs": [
    {
     "name": "stdout",
     "output_type": "stream",
     "text": [
      "\n",
      "Saved best model to: export\\mobile_price_best_model_logreg_20250903_140731.joblib\n"
     ]
    }
   ],
   "source": [
    "best_model.fit(X, y)\n",
    "EXPORT_DIR = Path(\"./export\")\n",
    "EXPORT_DIR.mkdir(exist_ok=True)\n",
    "stamp = datetime.now().strftime(\"%Y%m%d_%H%M%S\")\n",
    "model_path = EXPORT_DIR / f\"mobile_price_best_model_{best_name}_{stamp}.joblib\"\n",
    "joblib.dump({\"model\": best_model, \"features\": X.columns.tolist(), \"target\": target_col}, model_path)\n",
    "print(f\"\\nSaved best model to: {model_path}\")"
   ]
  },
  {
   "cell_type": "code",
   "execution_count": 14,
   "id": "cfaab089-97aa-4eca-a60b-47e6bc766300",
   "metadata": {},
   "outputs": [
    {
     "data": {
      "image/png": "[encoded data removed]",
      "text/plain": [
       "<Figure size 640x480 with 1 Axes>"
      ]
     },
     "metadata": {},
     "output_type": "display_data"
    },
    {
     "name": "stdout",
     "output_type": "stream",
     "text": [
      "\n",
      "DONE ✅\n"
     ]
    }
   ],
   "source": [
    "plt.figure()\n",
    "for cls in sorted(y.unique()):\n",
    "    plt.hist(df[df[target_col]==cls][\"ram\"], alpha=0.5, bins=20, label=f\"class {cls}\")\n",
    "plt.legend()\n",
    "plt.title(\"RAM vs Price Range\")\n",
    "plt.show()\n",
    "\n",
    "print(\"\\nDONE ✅\")"
   ]
  },
  {
   "cell_type": "code",
   "execution_count": 1,
   "id": "94dd74ad-3307-4e3f-97bb-59c0a97a8cef",
   "metadata": {},
   "outputs": [],
   "source": [
    "sample_phone = {\n",
    "    \"battery_power\": 1500,   # mAh\n",
    "    \"blue\": 1,               # Bluetooth: 1=yes, 0=no\n",
    "    \"clock_speed\": 2.0,      # GHz\n",
    "    \"dual_sim\": 1,           # Dual SIM\n",
    "    \"fc\": 5,                 # Front Camera MP\n",
    "    \"four_g\": 1,             # 4G: 1=yes, 0=no\n",
    "    \"int_memory\": 32,        # Internal Memory (GB)\n",
    "    \"m_dep\": 0.5,            # Mobile Depth (cm)\n",
    "    \"mobile_wt\": 150,        # Weight (g)\n",
    "    \"n_cores\": 4,            # Number of Cores\n",
    "    \"pc\": 12,                # Primary Camera MP\n",
    "    \"px_height\": 600,        # Pixel Resolution Height\n",
    "    \"px_width\": 1000,        # Pixel Resolution Width\n",
    "    \"ram\": 3000,             # RAM (MB)\n",
    "    \"sc_h\": 12,              # Screen Height (cm)\n",
    "    \"sc_w\": 7,               # Screen Width (cm)\n",
    "    \"talk_time\": 12,         # Talk Time (hours)\n",
    "    \"three_g\": 1,            # 3G: 1=yes, 0=no\n",
    "    \"touch_screen\": 1,       # Touch Screen: 1=yes, 0=no\n",
    "    \"wifi\": 1                # Wi-Fi: 1=yes, 0=no\n",
    "}\n"
   ]
  },
  {
   "cell_type": "code",
   "execution_count": 2,
   "id": "3e778d5a-29c7-4552-b93f-f8e067e12111",
   "metadata": {},
   "outputs": [
    {
     "ename": "NameError",
     "evalue": "name 'pd' is not defined",
     "output_type": "error",
     "traceback": [
      "\u001b[31m---------------------------------------------------------------------------\u001b[39m",
      "\u001b[31mNameError\u001b[39m                                 Traceback (most recent call last)",
      "\u001b[36mCell\u001b[39m\u001b[36m \u001b[39m\u001b[32mIn[2]\u001b[39m\u001b[32m, line 1\u001b[39m\n\u001b[32m----> \u001b[39m\u001b[32m1\u001b[39m sample_df = pd.DataFrame([sample_phone])\n",
      "\u001b[31mNameError\u001b[39m: name 'pd' is not defined"
     ]
    }
   ],
   "source": [
    "sample_df = pd.DataFrame([sample_phone])\n"
   ]
  },
  {
   "cell_type": "code",
   "execution_count": 3,
   "id": "baf3dfe2-f4fa-4f5d-9c46-104759c150d2",
   "metadata": {},
   "outputs": [
    {
     "ename": "NameError",
     "evalue": "name 'best_model' is not defined",
     "output_type": "error",
     "traceback": [
      "\u001b[31m---------------------------------------------------------------------------\u001b[39m",
      "\u001b[31mNameError\u001b[39m                                 Traceback (most recent call last)",
      "\u001b[36mCell\u001b[39m\u001b[36m \u001b[39m\u001b[32mIn[3]\u001b[39m\u001b[32m, line 1\u001b[39m\n\u001b[32m----> \u001b[39m\u001b[32m1\u001b[39m pred_class = best_model.predict(sample_df)[\u001b[32m0\u001b[39m]\n\u001b[32m      2\u001b[39m price_map = {\u001b[32m0\u001b[39m: \u001b[33m\"\u001b[39m\u001b[33mLow Cost\u001b[39m\u001b[33m\"\u001b[39m, \u001b[32m1\u001b[39m: \u001b[33m\"\u001b[39m\u001b[33mMedium Cost\u001b[39m\u001b[33m\"\u001b[39m, \u001b[32m2\u001b[39m: \u001b[33m\"\u001b[39m\u001b[33mHigh Cost\u001b[39m\u001b[33m\"\u001b[39m, \u001b[32m3\u001b[39m: \u001b[33m\"\u001b[39m\u001b[33mVery High Cost\u001b[39m\u001b[33m\"\u001b[39m}\n\u001b[32m      4\u001b[39m \u001b[38;5;28mprint\u001b[39m(\u001b[33m\"\u001b[39m\u001b[33mPredicted Price Range:\u001b[39m\u001b[33m\"\u001b[39m, pred_class, \u001b[33m\"\u001b[39m\u001b[33m→\u001b[39m\u001b[33m\"\u001b[39m, price_map[pred_class])\n",
      "\u001b[31mNameError\u001b[39m: name 'best_model' is not defined"
     ]
    }
   ],
   "source": [
    "pred_class = best_model.predict(sample_df)[0]\n",
    "price_map = {0: \"Low Cost\", 1: \"Medium Cost\", 2: \"High Cost\", 3: \"Very High Cost\"}\n",
    "\n",
    "print(\"Predicted Price Range:\", pred_class, \"→\", price_map[pred_class])\n"
   ]
  },
  {
   "cell_type": "code",
   "execution_count": null,
   "id": "86649b77-3089-4ff7-9ee6-7dfd12b343f8",
   "metadata": {},
   "outputs": [],
   "source": []
  }
 ],
 "metadata": {
  "kernelspec": {
   "display_name": "Python 3 (ipykernel)",
   "language": "python",
   "name": "python3"
  },
  "language_info": {
   "codemirror_mode": {
    "name": "ipython",
    "version": 3
   },
   "file_extension": ".py",
   "mimetype": "text/x-python",
   "name": "python",
   "nbconvert_exporter": "python",
   "pygments_lexer": "ipython3",
   "version": "3.12.3"
  }
 },
 "nbformat": 4,
 "nbformat_minor": 5
}
